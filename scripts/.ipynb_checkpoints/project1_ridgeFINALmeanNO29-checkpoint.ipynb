{
 "cells": [
  {
   "cell_type": "code",
   "execution_count": 4,
   "metadata": {},
   "outputs": [
    {
     "name": "stdout",
     "output_type": "stream",
     "text": [
      "THIS VERSION REMOVES THE 29TH COLUMN FROM CLUSTER0\n",
      "PREPROCESSING TRAIN DATA \n",
      " Clustering w.r.t. to PRI_jet_num numbers\n",
      "Prediction targets detected. Using a training set. \n",
      " Returning clusterized dataset and targets. \n",
      "\n",
      "Taking the log of the following features : \n",
      " ['DER_mass_MMC', 'DER_mass_transverse_met_lep', 'DER_mass_vis', 'DER_pt_h', 'DER_mass_jet_jet', 'DER_pt_tot', 'DER_sum_pt', 'DER_pt_ratio_lep_tau', 'PRI_tau_pt', 'PRI_lep_pt', 'PRI_met', 'PRI_met_sumet', 'PRI_jet_leading_pt', 'PRI_jet_subleading_pt', 'PRI_jet_all_pt']\n"
     ]
    },
    {
     "name": "stderr",
     "output_type": "stream",
     "text": [
      "C:\\Users\\richi\\Documents\\EPFL\\Master\\MA3_2\\Machine Learning\\practicals\\projects\\LOCAL_project1\\scripts\\preprocessing.py:241: RuntimeWarning: invalid value encountered in log\n",
      "  t0[:,feat] = np.log(t0[:,feat]+0.01)\n",
      "C:\\Users\\richi\\Documents\\EPFL\\Master\\MA3_2\\Machine Learning\\practicals\\projects\\LOCAL_project1\\scripts\\preprocessing.py:242: RuntimeWarning: invalid value encountered in log\n",
      "  t1[:,feat] = np.log(t1[:,feat]+0.01)\n",
      "C:\\Users\\richi\\Documents\\EPFL\\Master\\MA3_2\\Machine Learning\\practicals\\projects\\LOCAL_project1\\scripts\\preprocessing.py:243: RuntimeWarning: invalid value encountered in log\n",
      "  t2[:,feat] = np.log(t2[:,feat]+0.01)\n",
      "C:\\Users\\richi\\Documents\\EPFL\\Master\\MA3_2\\Machine Learning\\practicals\\projects\\LOCAL_project1\\scripts\\preprocessing.py:244: RuntimeWarning: invalid value encountered in log\n",
      "  t3[:,feat] = np.log(t3[:,feat]+0.01)\n"
     ]
    },
    {
     "name": "stdout",
     "output_type": "stream",
     "text": [
      "Removing features with all -999 rows. Returning indices for later\n",
      "7 features deleted\n",
      "5 features deleted\n",
      "0 features deleted\n",
      "0 features deleted\n",
      "REMOVING LAST COL for TX0\n",
      "Replacing -999 values with median\n"
     ]
    },
    {
     "name": "stderr",
     "output_type": "stream",
     "text": [
      "C:\\Users\\richi\\Anaconda3\\lib\\site-packages\\numpy\\lib\\nanfunctions.py:993: RuntimeWarning: All-NaN slice encountered\n",
      "  result = np.apply_along_axis(_nanmedian1d, axis, a, overwrite_input)\n"
     ]
    },
    {
     "name": "stdout",
     "output_type": "stream",
     "text": [
      "Standardizing : Setting mean to 0 and variance to 1\n",
      "Preprocessing done\n",
      "#======== CV for Cluster 0 ========#\n",
      "Iterating. Testing 8 lambdas for current degree = 1\n",
      "Iterating. Testing 8 lambdas for current degree = 2\n",
      "Iterating. Testing 8 lambdas for current degree = 3\n"
     ]
    },
    {
     "ename": "KeyboardInterrupt",
     "evalue": "",
     "output_type": "error",
     "traceback": [
      "\u001b[1;31m---------------------------------------------------------------------------\u001b[0m",
      "\u001b[1;31mKeyboardInterrupt\u001b[0m                         Traceback (most recent call last)",
      "\u001b[1;32m<ipython-input-4-9c482fc4be4b>\u001b[0m in \u001b[0;36m<module>\u001b[1;34m()\u001b[0m\n\u001b[0;32m     32\u001b[0m w_opt0, d_opt0, la0, train0, test0 = crossval_ridge_gridsearch(y0,tx0,k_fold,\n\u001b[0;32m     33\u001b[0m                                                              \u001b[0mlambdas\u001b[0m\u001b[1;33m,\u001b[0m\u001b[0mdegrees\u001b[0m\u001b[1;33m,\u001b[0m\u001b[1;33m\u001b[0m\u001b[1;33m\u001b[0m\u001b[0m\n\u001b[1;32m---> 34\u001b[1;33m                                                              loss=True)\n\u001b[0m\u001b[0;32m     35\u001b[0m \u001b[0mcv_viz\u001b[0m\u001b[1;33m(\u001b[0m\u001b[0md_opt0\u001b[0m\u001b[1;33m,\u001b[0m\u001b[0mlambdas\u001b[0m\u001b[1;33m,\u001b[0m\u001b[0mtrain0\u001b[0m\u001b[1;33m[\u001b[0m\u001b[0md_opt0\u001b[0m\u001b[1;33m-\u001b[0m\u001b[1;36m1\u001b[0m\u001b[1;33m,\u001b[0m\u001b[1;33m:\u001b[0m\u001b[1;33m]\u001b[0m\u001b[1;33m,\u001b[0m\u001b[0mtest0\u001b[0m\u001b[1;33m[\u001b[0m\u001b[0md_opt0\u001b[0m\u001b[1;33m-\u001b[0m\u001b[1;36m1\u001b[0m\u001b[1;33m,\u001b[0m\u001b[1;33m:\u001b[0m\u001b[1;33m]\u001b[0m\u001b[1;33m,\u001b[0m\u001b[0msave\u001b[0m\u001b[1;33m=\u001b[0m\u001b[1;34m\"ridge_clust0finalmedian\"\u001b[0m\u001b[1;33m)\u001b[0m\u001b[1;33m\u001b[0m\u001b[1;33m\u001b[0m\u001b[0m\n\u001b[0;32m     36\u001b[0m \u001b[1;31m#----------------1\u001b[0m\u001b[1;33m\u001b[0m\u001b[1;33m\u001b[0m\u001b[1;33m\u001b[0m\u001b[0m\n",
      "\u001b[1;32mC:\\Users\\richi\\Documents\\EPFL\\Master\\MA3_2\\Machine Learning\\practicals\\projects\\LOCAL_project1\\scripts\\train_tune.py\u001b[0m in \u001b[0;36mcrossval_ridge_gridsearch\u001b[1;34m(y, tx_clust, k_fold, lambdas, degrees, loss)\u001b[0m\n\u001b[0;32m     82\u001b[0m                 train_loss, test_loss, _ = cross_validation_ridge(y,tx_poly,\n\u001b[0;32m     83\u001b[0m                                                                    \u001b[0mk_indices\u001b[0m\u001b[1;33m,\u001b[0m\u001b[1;33m\u001b[0m\u001b[1;33m\u001b[0m\u001b[0m\n\u001b[1;32m---> 84\u001b[1;33m                                                                    k,lambda_)\n\u001b[0m\u001b[0;32m     85\u001b[0m                 \u001b[0mtrain_loss_tmp\u001b[0m\u001b[1;33m.\u001b[0m\u001b[0mappend\u001b[0m\u001b[1;33m(\u001b[0m\u001b[0mtrain_loss\u001b[0m\u001b[1;33m)\u001b[0m\u001b[1;33m\u001b[0m\u001b[1;33m\u001b[0m\u001b[0m\n\u001b[0;32m     86\u001b[0m                 \u001b[0mtest_loss_tmp\u001b[0m\u001b[1;33m.\u001b[0m\u001b[0mappend\u001b[0m\u001b[1;33m(\u001b[0m\u001b[0mtest_loss\u001b[0m\u001b[1;33m)\u001b[0m\u001b[1;33m\u001b[0m\u001b[1;33m\u001b[0m\u001b[0m\n",
      "\u001b[1;32mC:\\Users\\richi\\Documents\\EPFL\\Master\\MA3_2\\Machine Learning\\practicals\\projects\\LOCAL_project1\\scripts\\train_tune.py\u001b[0m in \u001b[0;36mcross_validation_ridge\u001b[1;34m(y, tx, k_indices, k, lambda_)\u001b[0m\n\u001b[0;32m     37\u001b[0m        value of lambda\"\"\"\n\u001b[0;32m     38\u001b[0m     \u001b[1;31m# get k'th subgroup in test, others in train\u001b[0m\u001b[1;33m\u001b[0m\u001b[1;33m\u001b[0m\u001b[1;33m\u001b[0m\u001b[0m\n\u001b[1;32m---> 39\u001b[1;33m     \u001b[0mtx_tr\u001b[0m\u001b[1;33m,\u001b[0m \u001b[0my_tr\u001b[0m\u001b[1;33m,\u001b[0m \u001b[0mtx_te\u001b[0m\u001b[1;33m,\u001b[0m \u001b[0my_te\u001b[0m \u001b[1;33m=\u001b[0m \u001b[0mk_split\u001b[0m\u001b[1;33m(\u001b[0m\u001b[0my\u001b[0m\u001b[1;33m,\u001b[0m \u001b[0mtx\u001b[0m\u001b[1;33m,\u001b[0m \u001b[0mk_indices\u001b[0m\u001b[1;33m,\u001b[0m \u001b[0mk\u001b[0m\u001b[1;33m)\u001b[0m\u001b[1;33m\u001b[0m\u001b[1;33m\u001b[0m\u001b[0m\n\u001b[0m\u001b[0;32m     40\u001b[0m \u001b[1;33m\u001b[0m\u001b[0m\n\u001b[0;32m     41\u001b[0m     \u001b[1;31m# ridge regression\u001b[0m\u001b[1;33m\u001b[0m\u001b[1;33m\u001b[0m\u001b[1;33m\u001b[0m\u001b[0m\n",
      "\u001b[1;32mC:\\Users\\richi\\Documents\\EPFL\\Master\\MA3_2\\Machine Learning\\practicals\\projects\\LOCAL_project1\\scripts\\train_tune.py\u001b[0m in \u001b[0;36mk_split\u001b[1;34m(y, x, k_indices, k)\u001b[0m\n\u001b[0;32m     30\u001b[0m     \u001b[0my_train\u001b[0m \u001b[1;33m=\u001b[0m \u001b[0my\u001b[0m\u001b[1;33m[\u001b[0m\u001b[0mtrain_indice\u001b[0m\u001b[1;33m]\u001b[0m\u001b[1;33m\u001b[0m\u001b[1;33m\u001b[0m\u001b[0m\n\u001b[0;32m     31\u001b[0m     \u001b[0mtx_test\u001b[0m \u001b[1;33m=\u001b[0m \u001b[0mx\u001b[0m\u001b[1;33m[\u001b[0m\u001b[0mtest_indice\u001b[0m\u001b[1;33m]\u001b[0m\u001b[1;33m\u001b[0m\u001b[1;33m\u001b[0m\u001b[0m\n\u001b[1;32m---> 32\u001b[1;33m     \u001b[0mtx_train\u001b[0m \u001b[1;33m=\u001b[0m \u001b[0mx\u001b[0m\u001b[1;33m[\u001b[0m\u001b[0mtrain_indice\u001b[0m\u001b[1;33m]\u001b[0m\u001b[1;33m\u001b[0m\u001b[1;33m\u001b[0m\u001b[0m\n\u001b[0m\u001b[0;32m     33\u001b[0m     \u001b[1;32mreturn\u001b[0m \u001b[0mtx_train\u001b[0m\u001b[1;33m,\u001b[0m \u001b[0my_train\u001b[0m\u001b[1;33m,\u001b[0m \u001b[0mtx_test\u001b[0m\u001b[1;33m,\u001b[0m \u001b[0my_test\u001b[0m\u001b[1;33m\u001b[0m\u001b[1;33m\u001b[0m\u001b[0m\n\u001b[0;32m     34\u001b[0m \u001b[1;33m\u001b[0m\u001b[0m\n",
      "\u001b[1;31mKeyboardInterrupt\u001b[0m: "
     ]
    }
   ],
   "source": [
    "# Useful starting lines\n",
    "%timeit\n",
    "%matplotlib inline\n",
    "import numpy as np\n",
    "import matplotlib.pyplot as plt\n",
    "from implementations import *\n",
    "from preprocessing import *\n",
    "from train_tune import *\n",
    "from proj1_helpers import *\n",
    "\n",
    "%load_ext autoreload\n",
    "%autoreload 2\n",
    "DATA_TRAIN_PATH = '../data/train.csv' # TODO: download train data and supply path here \n",
    "\n",
    "#loading data\n",
    "\n",
    "y, tx_train, ids = load_csv_data(DATA_TRAIN_PATH)\n",
    "names= get_feature_names(DATA_TRAIN_PATH)\n",
    "name2num,num2name = mapping(DATA_TRAIN_PATH)\n",
    "#Train preprocessing\n",
    "print(\"THIS VERSION REMOVES THE 29TH COLUMN FROM CLUSTER0\")\n",
    "from preprocessing import cluster_preprocessing_train\n",
    "tx0, y0, tx1, y1, tx2, y2, tx3, y3, id0, id1, id2, id3 = cluster_preprocessing_train(tx_train,y,num2name,f=\"mean\")\n",
    "\n",
    "#K-fold CV\n",
    "k_fold=5\n",
    "\n",
    "lambdas = np.logspace(-9,-3,8)\n",
    "degrees = np.array(range(1,12))\n",
    "\n",
    "print(\"#======== CV for Cluster 0 ========#\")\n",
    "w_opt0, d_opt0, la0, train0, test0 = crossval_ridge_gridsearch(y0,tx0,k_fold,\n",
    "                                                             lambdas,degrees,\n",
    "                                                             loss=True)\n",
    "cv_viz(d_opt0,lambdas,train0[d_opt0-1,:],test0[d_opt0-1,:],save=\"ridge_clust0finalmedian\")\n",
    "#----------------1\n",
    "print(\"#======== CV for Cluster 1 ========#\")\n",
    "w_opt1, d_opt1, la1, train1, test1 = crossval_ridge_gridsearch(y1,tx1,k_fold,\n",
    "                                                             lambdas,degrees,\n",
    "                                                             loss=True)\n",
    "cv_viz(d_opt1,lambdas,train1[d_opt1-1,:],test0[d_opt1-1,:],save=\"ridge_clust1finalmedian\")\n",
    "\n",
    "#----------------2\n",
    "print(\"#======== CV for Cluster 2 ========#\")\n",
    "w_opt2, d_opt2, la2, train2, test2 = crossval_ridge_gridsearch(y2,tx2,k_fold,\n",
    "                                                             lambdas,degrees,\n",
    "                                                             loss=True)\n",
    "cv_viz(d_opt2,lambdas,train2[d_opt2-1,:],test0[d_opt2-1,:],save=\"ridge_clust2finalmedian\")\n",
    "\n",
    "#----------------3\n",
    "print(\"#======== CV for Cluster 3 ========#\")\n",
    "w_opt3, d_opt3, la3, train3, test3 = crossval_ridge_gridsearch(y3,tx3,k_fold,\n",
    "                                                             lambdas,degrees,\n",
    "                                                             loss=True)\n",
    "cv_viz(d_opt3,lambdas,train3[d_opt3-1,:],test0[d_opt3-1,:],save=\"ridge_clust3finalmedian\")\n",
    "\n",
    "degs=[d_opt0,d_opt1,d_opt2,d_opt3]\n",
    "####"
   ]
  },
  {
   "cell_type": "code",
   "execution_count": 7,
   "metadata": {},
   "outputs": [
    {
     "name": "stdout",
     "output_type": "stream",
     "text": [
      "Normal prediction\n"
     ]
    }
   ],
   "source": [
    "yclusterpred_opt = cluster_predict(w_opt0,w_opt1,w_opt2,w_opt3,\n",
    "                               test0,test1,test2,test3,\n",
    "                               i0,i1,i2,i3,how=\"normal\")\n",
    "\n",
    "create_csv_submission(ids_test, yclusterpred_opt, OUTPUT_PATH+\"CV_GRIDSEARCH_ridgeFinalWITHOUT29mean.csv\")\n",
    "\n",
    "\n",
    "best = \"degs = {},{},{},{} \\n lambdas = {:e}, \\n {:e}, \\n {:e} \\n {:e}\".format(d_opt0,d_opt1,d_opt2,d_opt3,la0,la1,la2,la3)\n",
    "file1 = open(\"bestparams_ridge_WITHOUT29CORRECTEDLOGFEATURESwMean.txt\",\"w\") \n",
    "file1.write(best)\n",
    "file1.close()"
   ]
  },
  {
   "cell_type": "code",
   "execution_count": 31,
   "metadata": {},
   "outputs": [],
   "source": []
  }
 ],
 "metadata": {
  "anaconda-cloud": {},
  "kernelspec": {
   "display_name": "Python 3",
   "language": "python",
   "name": "python3"
  },
  "language_info": {
   "codemirror_mode": {
    "name": "ipython",
    "version": 3
   },
   "file_extension": ".py",
   "mimetype": "text/x-python",
   "name": "python",
   "nbconvert_exporter": "python",
   "pygments_lexer": "ipython3",
   "version": "3.7.5"
  }
 },
 "nbformat": 4,
 "nbformat_minor": 4
}
