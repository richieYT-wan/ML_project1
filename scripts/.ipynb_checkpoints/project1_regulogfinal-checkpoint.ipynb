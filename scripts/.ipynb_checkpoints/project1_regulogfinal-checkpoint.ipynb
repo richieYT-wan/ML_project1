{
 "cells": [
  {
   "cell_type": "markdown",
   "metadata": {},
   "source": [
    "#### ACTUALLY SEE SCRIPT INSTEAD\n"
   ]
  },
  {
   "cell_type": "code",
   "execution_count": 1,
   "metadata": {},
   "outputs": [
    {
     "name": "stdout",
     "output_type": "stream",
     "text": [
      "::: LOADING DATA :::\n",
      "\n",
      "PREPROCESSING TRAIN DATA \n",
      " Clustering w.r.t. to PRI_jet_num numbers\n",
      "Prediction targets detected. Using a training set. \n",
      " Returning clusterized dataset and targets. \n",
      "\n",
      "REMOVING LAST COL for TX0\n",
      "Taking the log of the following features : \n",
      " ['DER_mass_transverse_met_lep', 'DER_mass_vis', 'DER_pt_h', 'DER_pt_tot', 'DER_sum_pt', 'DER_pt_ratio_lep_tau', 'PRI_tau_pt', 'PRI_lep_pt', 'PRI_met', 'PRI_met_sumet']\n",
      "Removing features with all -999 rows. Returning indices for later\n",
      "10 features deleted\n",
      "7 features deleted\n",
      "0 features deleted\n",
      "0 features deleted\n",
      "Replacing -999 values with mean\n",
      "Standardizing : Setting mean to 0 and variance to 1\n",
      "Preprocessing done\n"
     ]
    }
   ],
   "source": [
    "# Useful starting lines\n",
    "%timeit\n",
    "%matplotlib inline\n",
    "import numpy as np\n",
    "import matplotlib.pyplot as plt\n",
    "from implementations import *\n",
    "from preprocessing import *\n",
    "from train_tune import *\n",
    "from proj1_helpers import *\n",
    "#import pandas as pd\n",
    "import seaborn as sns\n",
    "%load_ext autoreload\n",
    "%autoreload 2\n",
    "print(\"::: LOADING DATA :::\\n\")\n",
    "DATA_TRAIN_PATH = '../data/train.csv' # TODO: download train data and supply path here \n",
    "y, tx_train, ids = load_csv_data(DATA_TRAIN_PATH)\n",
    "names= get_feature_names(DATA_TRAIN_PATH)\n",
    "name2num,num2name = mapping(DATA_TRAIN_PATH)\n",
    "#Train preprocessing\n",
    "tx0, y0, tx1, y1, tx2, y2, tx3, y3, id0, id1, id2, id3 = cluster_preprocessing_train(tx_train,y,num2name)"
   ]
  },
  {
   "cell_type": "markdown",
   "metadata": {},
   "source": [
    "XD"
   ]
  },
  {
   "cell_type": "code",
   "execution_count": 36,
   "metadata": {},
   "outputs": [
    {
     "name": "stdout",
     "output_type": "stream",
     "text": [
      "#======== CV for Cluster 0 ========#\n"
     ]
    },
    {
     "ename": "NameError",
     "evalue": "name 'crossval_regulog_gridsearch_adaptive' is not defined",
     "output_type": "error",
     "traceback": [
      "\u001b[1;31m---------------------------------------------------------------------------\u001b[0m",
      "\u001b[1;31mNameError\u001b[0m                                 Traceback (most recent call last)",
      "\u001b[1;32m<ipython-input-36-1b5f7caa1a5b>\u001b[0m in \u001b[0;36m<module>\u001b[1;34m()\u001b[0m\n\u001b[0;32m      5\u001b[0m \u001b[0mn_iters\u001b[0m \u001b[1;33m=\u001b[0m \u001b[1;36m1389\u001b[0m\u001b[1;33m\u001b[0m\u001b[1;33m\u001b[0m\u001b[0m\n\u001b[0;32m      6\u001b[0m \u001b[0mprint\u001b[0m\u001b[1;33m(\u001b[0m\u001b[1;34m\"#======== CV for Cluster 0 ========#\"\u001b[0m\u001b[1;33m)\u001b[0m\u001b[1;33m\u001b[0m\u001b[1;33m\u001b[0m\u001b[0m\n\u001b[1;32m----> 7\u001b[1;33m wlog0, dlog0, la0, train0, test0 = crossval_regulog_gridsearch_adaptive(y0,tx0,k_fold,\n\u001b[0m\u001b[0;32m      8\u001b[0m                                                              \u001b[0mlambdas\u001b[0m\u001b[1;33m,\u001b[0m\u001b[0mdegrees\u001b[0m\u001b[1;33m,\u001b[0m\u001b[0mgammas\u001b[0m\u001b[1;33m,\u001b[0m\u001b[1;33m\u001b[0m\u001b[1;33m\u001b[0m\u001b[0m\n\u001b[0;32m      9\u001b[0m                                                              n_iters,loss=True,tol=1e-8)\n",
      "\u001b[1;31mNameError\u001b[0m: name 'crossval_regulog_gridsearch_adaptive' is not defined"
     ]
    }
   ],
   "source": [
    "degrees = [1,2,3,4]\n",
    "lambdas = np.logspace(-9,-5,3)\n",
    "gammas = [1e-6, 5e-8, 8e-10, 1e-11]\n",
    "k_fold = 5\n",
    "n_iters = 1389\n",
    "print(\"#======== CV for Cluster 0 ========#\")\n",
    "wlog0, dlog0, la0, train0, test0 = crossval_regulog_gridsearch_adaptive(y0,tx0,k_fold,\n",
    "                                                             lambdas,degrees,gammas,\n",
    "                                                             n_iters,loss=True,tol=1e-8)\n",
    "cv_viz(dlog0,lambdas,train0[dlog0-1,:],test0[dlog0-1,:],save=False)"
   ]
  },
  {
   "cell_type": "code",
   "execution_count": 4,
   "metadata": {},
   "outputs": [
    {
     "name": "stdout",
     "output_type": "stream",
     "text": [
      "#======== CV for Cluster 0 ========#\n",
      "Iterating. Testing 3 lambdas for current degree = 2\n",
      "newlambda\n",
      "newlambda\n",
      "newlambda\n",
      "Iterating. Testing 3 lambdas for current degree = 4\n",
      "newlambda\n",
      "newlambda\n",
      "newlambda\n",
      "Iterating. Testing 3 lambdas for current degree = 6\n",
      "newlambda\n",
      "newlambda\n",
      "newlambda\n",
      "Getting best degree and lambda\n",
      "ReguLog regression : getting optimal weights with best degree (2), lambda (3.162277660168379e-06)\n",
      "Done, returning optimal weight, degree, lambda \n",
      " And train and test loss arrays for visualization\n"
     ]
    }
   ],
   "source": [
    "degrees = [1,2,3,4]\n",
    "lambdas = np.logspace(-9,-5,3)\n",
    "gammas = [1e-6, 5e-8, 8e-10, 1e-11]\n",
    "k_fold = 5\n",
    "n_iters = 1200\n",
    "gamma = 2e-6\n",
    "print(\"#======== CV for Cluster 0 ========#\")\n",
    "wlog0, dlog0, la0, train0, test0 = crossval_regulog_gridsearch(y0,tx0,k_fold,\n",
    "                                                             lambdas,degrees,\n",
    "                                                             n_iters,gamma,loss=True,tol=1e-6)\n",
    "cv_viz(dlog0,lambdas,train0[dlog0-1,:],test0[dlog0-1,:],save=False)\n",
    "\n"
   ]
  },
  {
   "cell_type": "code",
   "execution_count": 32,
   "metadata": {},
   "outputs": [
    {
     "name": "stdout",
     "output_type": "stream",
     "text": [
      "0.556085367250793\n"
     ]
    },
    {
     "data": {
      "image/png": "[encoded data removed]",
      "text/plain": [
       "<Figure size 432x288 with 1 Axes>"
      ]
     },
     "metadata": {
      "needs_background": "light"
     },
     "output_type": "display_data"
    }
   ],
   "source": [
    "tx0_try = build_poly(tx0,2)\n",
    "w_init_0 = np.random.randn(tx0_try.shape[1],1)\n",
    "wlog0, _, losses_try0 = reg_logistic_regression(y0,tx0_try,2e-7,w_init_0,2000,3.4e-8,1e-8)\n",
    "plt.plot(losses_try0)\n",
    "print(losses_try0[-1])"
   ]
  },
  {
   "cell_type": "code",
   "execution_count": 4,
   "metadata": {},
   "outputs": [],
   "source": [
    "#----------------1\n",
    "print(\"#======== CV for Cluster 1 ========#\")\n",
    "wlog1, dlog1, la1, train1, test1 = crossval_regulog_gridsearch(y1,tx1,k_fold,\n",
    "                                                             lambdas,degrees,\n",
    "                                                             n_iters,gamma,loss=True,tol=1e-6)\n",
    "cv_viz(dlog1,lambdas,train1[dlog1-1,:],test0[dlog1-1,:],save=False)\n"
   ]
  },
  {
   "cell_type": "code",
   "execution_count": 4,
   "metadata": {},
   "outputs": [],
   "source": [
    "#----------------2\n",
    "print(\"#======== CV for Cluster 2 ========#\")\n",
    "wlog2, dlog2, la2, train2, test2 = crossval_regulog_gridsearch(y2,tx2,k_fold,\n",
    "                                                             lambdas,degrees,\n",
    "                                                             n_iters,gamma,loss=True,tol=1e-6)\n",
    "cv_viz(dlog2,lambdas,train2[dlog2-1,:],test0[dlog2-1,:],save=\"regulog_clust2final\")\n",
    "\n",
    "#----------------3\n",
    "print(\"#======== CV for Cluster 3 ========#\")\n",
    "wlog3, dlog3, la3, train3, test3 = crossval_regulog_gridsearch(y3,tx3,k_fold,\n",
    "                                                             lambdas,degrees,\n",
    "                                                             n_iters,gamma,loss=True,tol=1e-6)\n",
    "cv_viz(dlog3,lambdas,train3[dlog3-1,:],test0[dlog3-1,:],save=\"regulog_clust3final\")"
   ]
  },
  {
   "cell_type": "code",
   "execution_count": 4,
   "metadata": {},
   "outputs": [],
   "source": [
    "degs=[dlog0,dlog1,dlog2,dlog3]"
   ]
  },
  {
   "cell_type": "code",
   "execution_count": 4,
   "metadata": {},
   "outputs": [],
   "source": []
  },
  {
   "cell_type": "code",
   "execution_count": 14,
   "metadata": {},
   "outputs": [
    {
     "name": "stdout",
     "output_type": "stream",
     "text": [
      "PREPROCESSING TEST DATA \n",
      " Clustering w.r.t. to PRI_jet_num numbers\n",
      "No targets detected. Using a test-set. \n",
      " Returning clusterized dataset and indices. \n",
      "\n",
      "REMOVING LAST COL for TX0\n",
      "Taking the log of the following features : \n",
      " [None, None, None, None, None, None, None, None, None, None]\n",
      "deleting corresponding columns\n",
      "Replacing -999 values with mean\n",
      "Standardizing : Setting mean to 0 and variance to 1\n",
      "Augmenting features\n",
      "Preprocessing done, returning clusterized test set and indices\n",
      "Prediction for log regression\n"
     ]
    }
   ],
   "source": [
    "DATA_TEST_PATH = '../data/test.csv' # TODO: download test data and supply path here \n",
    "_, tX_test, ids_test = load_csv_data(DATA_TEST_PATH)\n",
    "OUTPUT_PATH = '../submissions/' # TODO: fill in desired name of output file for submission\n",
    "\n",
    "test0, i0, test1, i1, test2, i2, test3, i3 = cluster_preprocessing_test(tX_test, id0, id1,\n",
    "                                                                 id2, id3, degs, num2name)\n",
    "#Prediction\n",
    "\n",
    "yclusterpred_log = cluster_predict(w_log_opt0,w_log_opt1,w_log_opt2,w_log_opt3,\n",
    "                               test0,test1,test2,test3,\n",
    "                               i0,i1,i2,i3,how=\"log\")\n",
    "\n",
    "create_csv_submission(ids_test, yclusterpred_log, OUTPUT_PATH+\"clusterREGULOG_postcrossval_final.csv\")"
   ]
  },
  {
   "cell_type": "code",
   "execution_count": null,
   "metadata": {},
   "outputs": [],
   "source": []
  }
 ],
 "metadata": {
  "anaconda-cloud": {},
  "kernelspec": {
   "display_name": "Python 3",
   "language": "python",
   "name": "python3"
  },
  "language_info": {
   "codemirror_mode": {
    "name": "ipython",
    "version": 3
   },
   "file_extension": ".py",
   "mimetype": "text/x-python",
   "name": "python",
   "nbconvert_exporter": "python",
   "pygments_lexer": "ipython3",
   "version": "3.7.5"
  }
 },
 "nbformat": 4,
 "nbformat_minor": 4
}
