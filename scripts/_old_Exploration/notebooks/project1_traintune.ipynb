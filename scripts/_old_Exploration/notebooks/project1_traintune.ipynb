{
 "cells": [
  {
   "cell_type": "code",
   "execution_count": 31,
   "metadata": {},
   "outputs": [
    {
     "name": "stdout",
     "output_type": "stream",
     "text": [
      "The autoreload extension is already loaded. To reload it, use:\n",
      "  %reload_ext autoreload\n"
     ]
    }
   ],
   "source": [
    "# Useful starting lines\n",
    "%timeit\n",
    "%matplotlib inline\n",
    "import numpy as np\n",
    "import matplotlib.pyplot as plt\n",
    "from implementations import *\n",
    "from preprocessing import *\n",
    "from train_tune import *\n",
    "from proj1_helpers import *\n",
    "\n",
    "%load_ext autoreload\n",
    "%autoreload 2"
   ]
  },
  {
   "cell_type": "markdown",
   "metadata": {},
   "source": [
    "**Loading data**"
   ]
  },
  {
   "cell_type": "code",
   "execution_count": 30,
   "metadata": {},
   "outputs": [
    {
     "name": "stdout",
     "output_type": "stream",
     "text": [
      "Prediction targets detected. Using a training set. \n",
      " Returning clusterized dataset and targets. \n",
      "\n"
     ]
    }
   ],
   "source": [
    "DATA_TRAIN_PATH = '../data/train.csv'\n",
    "y, tx_train, ids = load_csv_data(DATA_TRAIN_PATH)\n",
    "#Clustering\n",
    "tx0, y0, tx1, y1, tx2, y2, tx3, y3 = prijetnum_clustering(tx_train,y)\n",
    "#histogram_clusters(tx0,tx1,tx2,tx3)"
   ]
  },
  {
   "cell_type": "markdown",
   "metadata": {},
   "source": [
    "##### **Pre-processing :: # NEED TO WRITE A PRE-PROCESSING FUNC**\n",
    "\n"
   ]
  },
  {
   "cell_type": "code",
   "execution_count": 26,
   "metadata": {},
   "outputs": [
    {
     "name": "stdout",
     "output_type": "stream",
     "text": [
      "10 features deleted\n",
      "7 features deleted\n",
      "0 features deleted\n",
      "0 features deleted\n",
      "Removed features for cluster 0 : [4, 5, 6, 12, 23, 24, 25, 26, 27, 28]  \n",
      " ['DER_deltaeta_jet_jet' 'DER_mass_jet_jet' 'DER_prodeta_jet_jet'\n",
      " 'DER_lep_eta_centrality' 'PRI_jet_leading_pt' 'PRI_jet_leading_eta'\n",
      " 'PRI_jet_leading_phi' 'PRI_jet_subleading_pt' 'PRI_jet_subleading_eta'\n",
      " 'PRI_jet_subleading_phi']\n",
      "Removed features for cluster 1 : [4, 5, 6, 12, 26, 27, 28]  \n",
      " ['DER_deltaeta_jet_jet' 'DER_mass_jet_jet' 'DER_prodeta_jet_jet'\n",
      " 'DER_lep_eta_centrality' 'PRI_jet_subleading_pt' 'PRI_jet_subleading_eta'\n",
      " 'PRI_jet_subleading_phi']\n"
     ]
    }
   ],
   "source": [
    "#NEED TO WRITE A PRE-PROCESSING FUNC\n",
    "names= get_feature_names(DATA_TRAIN_PATH)\n",
    "#Deleting useless feature: \n",
    "tx_df0, idx_tk0 = delete_features(tx0)\n",
    "tx_df1, idx_tk1 = delete_features(tx1)\n",
    "tx_df2, idx_tk2 = delete_features(tx2)\n",
    "tx_df3, idx_tk3 = delete_features(tx3)\n",
    "\n",
    "#Replacing remaining -999 values with the median of that feature\n",
    "tx_df0 = replace_999_median(tx_df0)\n",
    "tx_df1 = replace_999_median(tx_df1)\n",
    "tx_df2 = replace_999_median(tx_df2)\n",
    "tx_df3 = replace_999_median(tx_df3)\n",
    "\n",
    "tx_meandf0 = replace_999_mean(tx_df0)\n",
    "tx_meandf1 = replace_999_mean(tx_df1)\n",
    "tx_meandf2 = replace_999_mean(tx_df2)\n",
    "tx_meandf3 = replace_999_mean(tx_df3)\n",
    "#std+adding bias\n",
    "tx_df0, _, _ = standardize(tx_df0)\n",
    "tx_df1, _, _ = standardize(tx_df1)\n",
    "tx_df2, _, _ = standardize(tx_df2)\n",
    "tx_df3, _, _ = standardize(tx_df3)\n",
    "\n",
    "tx_meandf0, _, _ = standardize(tx_meandf0)\n",
    "tx_meandf1, _, _ = standardize(tx_meandf1)\n",
    "tx_meandf2, _, _ = standardize(tx_meandf2)\n",
    "tx_meandf3, _, _ = standardize(tx_meandf3)\n",
    "#NO NEED TO ADD BIAS because we use build_poly in cv_gridsearch\n",
    "#tx_df0 = add_bias(tx_df0)\n",
    "#tx_df1 = add_bias(tx_df1)\n",
    "#tx_df2 = add_bias(tx_df2)\n",
    "#tx_df3 = add_bias(tx_df3)\n",
    "print(\"Removed features for cluster 0 :\",idx_tk0,\" \\n\",(names[idx_tk0]))\n",
    "print(\"Removed features for cluster 1 :\",idx_tk1,\" \\n\",(names[idx_tk1]))\n"
   ]
  },
  {
   "cell_type": "markdown",
   "metadata": {},
   "source": [
    "### **K-fold Cross-validation to find the best lambdas, degrees, features to remove, etc**\n",
    "\n",
    "See `traintune.py`. Given the size of each cluster within the train set, I advice clustering before K-fold splitting to maximize the amount of datapoints in each cluster-group."
   ]
  },
  {
   "cell_type": "markdown",
   "metadata": {
    "jupyter": {
     "source_hidden": true
    }
   },
   "source": [
    "def crossval_ridge_gridsearch(y, tx_clust, k_fold, lambdas, degrees, loss=False):\n",
    "    \"\"\"\n",
    "    Input : y (target), np.array\n",
    "            tx (dataset), np.array\n",
    "            k_fold, int \n",
    "            lambdas, degrees : np.arrays containing the values to be tested.\n",
    "            loss, bool : If true, will return the train-test loss arrays, to be used in viz for plotting.\n",
    "            \n",
    "    Returns the lambda, degree and associated weight that optimizes\n",
    "    the RMSE loss for Ridge Regression using K-fold cross validation.\n",
    "    It is advisable to use clusterized and pre-processed tx as input \n",
    "    in order to maximize data points in each of the cluster/k'th subgroup.\n",
    "    \n",
    "    Computes the best degree of polynomial expansion and its associated\n",
    "    optimal value of lambda.\n",
    "    \"\"\"\n",
    "    #Initializing values. \n",
    "    k_indices = build_k_indices(y, k_fold)\n",
    "    #Get arrays of train and test loss for each degree (in axis=0), and each lambdas(in axis=1)\n",
    "    total_train_loss = np.empty((len(degrees),len(lambdas)))\n",
    "    total_test_loss = np.empty((len(degrees),len(lambdas)))\n",
    "    #Gridsearch loops.\n",
    "    for id_deg, degree in enumerate(degrees):\n",
    "        print(\"Iterating. Testing {} lambdas for current degree = {}\".format(len(lambdas),degree))\n",
    "        lambda_train_loss = []\n",
    "        lambda_test_loss = []\n",
    "        \n",
    "        for id_lam, lambda_ in enumerate(lambdas):\n",
    "            train_loss_tmp = []\n",
    "            test_loss_tmp = []\n",
    "            \n",
    "            for k in range(k_fold):\n",
    "                train_loss, test_loss, w = cross_validation_result(y,tx_clust,\n",
    "                                                                   k_indices,\n",
    "                                                                   k,lambda_,degree)\n",
    "                train_loss_tmp.append(train_loss)\n",
    "                test_loss_tmp.append(test_loss)\n",
    "            print(\"Train{},test {}\".format(np.mean(train_loss_tmp),np.mean(test_loss_tmp)))\n",
    "            lambda_train_loss.append(np.mean(train_loss_tmp))\n",
    "            lambda_test_loss.append(np.mean(test_loss_tmp))\n",
    "            \n",
    "        total_train_loss[id_deg,:]=lambda_train_loss\n",
    "        total_test_loss[id_deg,:]=lambda_test_loss\n",
    "        \n",
    "    #Getting the best degree, values.\n",
    "    print(\"Getting best degree and lambda\")\n",
    "    best_id = np.argwhere(total_test_loss==np.min(total_test_loss))[0,]\n",
    "    best_degree = degrees[best_id[0]]\n",
    "    best_lambda = lambdas[best_id[1]]\n",
    "    \n",
    "    #Getting the optimized weights.\n",
    "    print(\"Ridge regression : getting optimal weights with best degree ({}), lambda ({})\".format(best_degree,\n",
    "                                                                                                best_lambda))\n",
    "    tx_poly = build_poly(tx_clust,best_degree)\n",
    "    w_opt = ridge_regression(y,tx_clust,best_lambda)\n",
    "    if loss==False:\n",
    "        print(\"wtf\")\n",
    "        return w_opt, best_degree, best_lambda\n",
    "    elif loss:\n",
    "        print(\"Returning train and test loss arrays for visualization\")\n",
    "        return w_opt, best_degree, best_lambda, total_train_loss, total_test_loss\n",
    "    \n",
    "    "
   ]
  },
  {
   "cell_type": "code",
   "execution_count": 14,
   "metadata": {
    "collapsed": true,
    "jupyter": {
     "outputs_hidden": true,
     "source_hidden": true
    }
   },
   "outputs": [
    {
     "name": "stdout",
     "output_type": "stream",
     "text": [
      "beginning loop train loss []\n",
      "lambda train loss after lambda loop [2.0, 2.0, 2.0, 2.0, 2.0, 2.0, 2.0, 2.0, 2.0]\n",
      "beginning loop train loss []\n",
      "lambda train loss after lambda loop [2.0, 2.0, 2.0, 2.0, 2.0, 2.0, 2.0, 2.0, 2.0]\n",
      "beginning loop train loss []\n",
      "lambda train loss after lambda loop [2.0, 2.0, 2.0, 2.0, 2.0, 2.0, 2.0, 2.0, 2.0]\n",
      "beginning loop train loss []\n",
      "lambda train loss after lambda loop [2.0, 2.0, 2.0, 2.0, 2.0, 2.0, 2.0, 2.0, 2.0]\n",
      "[[2. 2. 2. 2. 2. 2. 2. 2. 2.]\n",
      " [2. 2. 2. 2. 2. 2. 2. 2. 2.]\n",
      " [2. 2. 2. 2. 2. 2. 2. 2. 2.]\n",
      " [2. 2. 2. 2. 2. 2. 2. 2. 2.]]\n"
     ]
    }
   ],
   "source": [
    "degrees = range(4)\n",
    "total_train_loss = np.empty((len(degrees),len(lambdas)))\n",
    "for id_deg, degree in enumerate(degrees):\n",
    "    lambda_train_loss = []\n",
    "    print(\"beginning loop train loss\",lambda_train_loss)\n",
    "    for id_lam, lambda_ in enumerate(lambdas):\n",
    "        train_loss_tmp = []\n",
    "        \n",
    "        for k in range(k_fold):\n",
    "            \n",
    "            train_loss_tmp.append(k)\n",
    "        lambda_train_loss.append(np.mean(train_loss_tmp))\n",
    "    print(\"lambda train loss after lambda loop\", lambda_train_loss)\n",
    "    total_train_loss[id_deg,:]=lambda_train_loss\n",
    "print(total_train_loss)"
   ]
  },
  {
   "cell_type": "code",
   "execution_count": 4,
   "metadata": {},
   "outputs": [],
   "source": [
    "def cv_viz(degree,lambds, mse_tr, mse_te):\n",
    "    \"\"\"visualization the curves of mse_tr and mse_te.\"\"\"\n",
    "    plt.semilogx(lambds, mse_tr, marker=\".\", color='b', label='train error')\n",
    "    plt.semilogx(lambds, mse_te, marker=\".\", color='r', label='test error')\n",
    "    plt.xlabel(\"lambda\")\n",
    "    plt.ylabel(\"rmse\")\n",
    "    plt.title(\"Cross validation : Degree={}\".format(degree))\n",
    "    plt.legend(loc=2)\n",
    "    plt.grid(True)\n",
    "    #plt.savefig(\"cross_validation\")\n"
   ]
  },
  {
   "cell_type": "code",
   "execution_count": 5,
   "metadata": {},
   "outputs": [],
   "source": [
    "k_fold=10\n",
    "lambdas = np.logspace(-8,-1,12)\n",
    "degrees = np.array(range(1,12))"
   ]
  },
  {
   "cell_type": "markdown",
   "metadata": {},
   "source": [
    "**sanity check**"
   ]
  },
  {
   "cell_type": "code",
   "execution_count": 56,
   "metadata": {
    "collapsed": true,
    "jupyter": {
     "outputs_hidden": true,
     "source_hidden": true
    }
   },
   "outputs": [
    {
     "name": "stdout",
     "output_type": "stream",
     "text": [
      "current deg iteration 1\n",
      "(99913, 22)\n",
      "current deg iteration 2\n",
      "(99913, 43)\n",
      "current deg iteration 3\n",
      "(99913, 64)\n",
      "current deg iteration 4\n",
      "(99913, 85)\n"
     ]
    }
   ],
   "source": [
    "for deg in degrees:\n",
    "    print(\"current deg iteration\",deg)\n",
    "    t=build_poly(tx_df0,deg)\n",
    "    print(t.shape)"
   ]
  },
  {
   "cell_type": "markdown",
   "metadata": {},
   "source": [
    "Something's wrong. When printing, we see that one of the k'th group systematically has very high test error compared to the others when augmenting the features to degrees above 1. What is wrong?"
   ]
  },
  {
   "cell_type": "code",
   "execution_count": 98,
   "metadata": {},
   "outputs": [
    {
     "name": "stdout",
     "output_type": "stream",
     "text": [
      "Iterating. Testing 12 lambdas for current degree = 1\n",
      "Iterating. Testing 12 lambdas for current degree = 2\n",
      "Iterating. Testing 12 lambdas for current degree = 3\n",
      "Iterating. Testing 12 lambdas for current degree = 4\n",
      "Iterating. Testing 12 lambdas for current degree = 5\n",
      "Iterating. Testing 12 lambdas for current degree = 6\n",
      "Iterating. Testing 12 lambdas for current degree = 7\n",
      "Iterating. Testing 12 lambdas for current degree = 8\n",
      "Iterating. Testing 12 lambdas for current degree = 9\n",
      "Iterating. Testing 12 lambdas for current degree = 10\n",
      "Iterating. Testing 12 lambdas for current degree = 11\n",
      "Iterating. Testing 12 lambdas for current degree = 12\n",
      "Getting best degree and lambda\n",
      "Ridge regression : getting optimal weights with best degree (1), lambda (1.873817422860383e-07)\n",
      "Returning train and test loss arrays for visualization\n",
      "0.6963157090133777\n"
     ]
    },
    {
     "data": {
      "image/png": "[encoded data removed]",
      "text/plain": [
       "<Figure size 432x288 with 1 Axes>"
      ]
     },
     "metadata": {
      "needs_background": "light"
     },
     "output_type": "display_data"
    }
   ],
   "source": [
    "w, deg, lam, trainloss,testloss= crossval_ridge_gridsearch(y0,tx_df0, k_fold, \n",
    "                                                          lambdas, degrees,loss=True)\n",
    "cv_viz(deg,lambdas,trainloss[deg-1,:],testloss[deg-1,:])\n",
    "print(np.amin(trainloss))"
   ]
  },
  {
   "cell_type": "code",
   "execution_count": 99,
   "metadata": {},
   "outputs": [
    {
     "name": "stdout",
     "output_type": "stream",
     "text": [
      "Iterating. Testing 12 lambdas for current degree = 1\n",
      "Iterating. Testing 12 lambdas for current degree = 2\n",
      "Iterating. Testing 12 lambdas for current degree = 3\n",
      "Iterating. Testing 12 lambdas for current degree = 4\n",
      "Iterating. Testing 12 lambdas for current degree = 5\n",
      "Iterating. Testing 12 lambdas for current degree = 6\n",
      "Iterating. Testing 12 lambdas for current degree = 7\n",
      "Iterating. Testing 12 lambdas for current degree = 8\n",
      "Iterating. Testing 12 lambdas for current degree = 9\n",
      "Iterating. Testing 12 lambdas for current degree = 10\n",
      "Iterating. Testing 12 lambdas for current degree = 11\n",
      "Iterating. Testing 12 lambdas for current degree = 12\n",
      "Getting best degree and lambda\n",
      "Ridge regression : getting optimal weights with best degree (5), lambda (1.873817422860383e-07)\n",
      "Returning train and test loss arrays for visualization\n",
      "50 0.8077414765059748\n"
     ]
    },
    {
     "data": {
      "image/png": "[encoded data removed]",
      "text/plain": [
       "<Figure size 432x288 with 1 Axes>"
      ]
     },
     "metadata": {
      "needs_background": "light"
     },
     "output_type": "display_data"
    }
   ],
   "source": [
    "w1, deg1, lam1, trainloss1, testloss1 = crossval_ridge_gridsearch(y1,tx_df1, \n",
    "                                                                  k_fold, lambdas,\n",
    "                                                                  degrees,loss=True)\n",
    "cv_viz(deg1,lambdas,trainloss1[deg1-1,:],testloss1[deg1-1,:])\n",
    "print(np.argmin(testloss1),np.amin(testloss1))"
   ]
  },
  {
   "cell_type": "markdown",
   "metadata": {},
   "source": [
    "**sanity check**"
   ]
  },
  {
   "cell_type": "code",
   "execution_count": null,
   "metadata": {
    "collapsed": true,
    "jupyter": {
     "outputs_hidden": true,
     "source_hidden": true
    }
   },
   "outputs": [],
   "source": [
    "#SANITY CHECK\n",
    "best_id = np.argwhere(testloss1==np.min(testloss1))\n",
    "test = np.min(testloss1)\n",
    "print(test)\n",
    "print(best_id)\n",
    "print(\"best degree\",degrees[best_id[0,0]])\n",
    "print(\"best lambda\",lambdas[best_id[0,1]],\"bestid\",best_id[0,1])\n",
    "print(\"losst2\", testloss2[best_id[0,0],best_id[0,1]])"
   ]
  },
  {
   "cell_type": "code",
   "execution_count": 100,
   "metadata": {},
   "outputs": [
    {
     "name": "stdout",
     "output_type": "stream",
     "text": [
      "Iterating. Testing 12 lambdas for current degree = 1\n",
      "Iterating. Testing 12 lambdas for current degree = 2\n",
      "Iterating. Testing 12 lambdas for current degree = 3\n",
      "Iterating. Testing 12 lambdas for current degree = 4\n",
      "Iterating. Testing 12 lambdas for current degree = 5\n",
      "Iterating. Testing 12 lambdas for current degree = 6\n",
      "Iterating. Testing 12 lambdas for current degree = 7\n",
      "Iterating. Testing 12 lambdas for current degree = 8\n",
      "Iterating. Testing 12 lambdas for current degree = 9\n",
      "Iterating. Testing 12 lambdas for current degree = 10\n",
      "Iterating. Testing 12 lambdas for current degree = 11\n",
      "Iterating. Testing 12 lambdas for current degree = 12\n",
      "Getting best degree and lambda\n",
      "Ridge regression : getting optimal weights with best degree (5), lambda (1.5199110829529332e-05)\n",
      "Returning train and test loss arrays for visualization\n"
     ]
    },
    {
     "data": {
      "image/png": "[encoded data removed]",
      "text/plain": [
       "<Figure size 432x288 with 1 Axes>"
      ]
     },
     "metadata": {
      "needs_background": "light"
     },
     "output_type": "display_data"
    }
   ],
   "source": [
    "w2, deg2, lam2, trainloss2, testloss2 = crossval_ridge_gridsearch(y2,tx_df2, \n",
    "                                                                  k_fold, lambdas,\n",
    "                                                                  degrees,loss=True)\n",
    "cv_viz(deg2,lambdas,trainloss2[deg2-1,:],testloss2[deg2-1,:])"
   ]
  },
  {
   "cell_type": "code",
   "execution_count": 101,
   "metadata": {},
   "outputs": [
    {
     "name": "stdout",
     "output_type": "stream",
     "text": [
      "Iterating. Testing 12 lambdas for current degree = 1\n",
      "Iterating. Testing 12 lambdas for current degree = 2\n",
      "Iterating. Testing 12 lambdas for current degree = 3\n",
      "Iterating. Testing 12 lambdas for current degree = 4\n",
      "Iterating. Testing 12 lambdas for current degree = 5\n",
      "Iterating. Testing 12 lambdas for current degree = 6\n",
      "Iterating. Testing 12 lambdas for current degree = 7\n",
      "Iterating. Testing 12 lambdas for current degree = 8\n",
      "Iterating. Testing 12 lambdas for current degree = 9\n",
      "Iterating. Testing 12 lambdas for current degree = 10\n",
      "Iterating. Testing 12 lambdas for current degree = 11\n",
      "Iterating. Testing 12 lambdas for current degree = 12\n",
      "Getting best degree and lambda\n",
      "Ridge regression : getting optimal weights with best degree (4), lambda (1e-08)\n",
      "Returning train and test loss arrays for visualization\n",
      "36 0.7980789343006914\n"
     ]
    },
    {
     "data": {
      "image/png": "[encoded data removed]",
      "text/plain": [
       "<Figure size 432x288 with 1 Axes>"
      ]
     },
     "metadata": {
      "needs_background": "light"
     },
     "output_type": "display_data"
    }
   ],
   "source": [
    "w3, deg3, lam3, trainloss3, testloss3 = crossval_ridge_gridsearch(y3,tx_df3, \n",
    "                                                                  k_fold, lambdas,\n",
    "                                                                  degrees,loss=True)\n",
    "cv_viz(deg3,lambdas,trainloss3[deg3-1,:],testloss3[deg3-1,:])\n",
    "print(np.argmin(testloss3),np.amin(testloss3))"
   ]
  },
  {
   "cell_type": "markdown",
   "metadata": {},
   "source": [
    "## Generate predictions and save ouput in csv format for submission:"
   ]
  },
  {
   "cell_type": "code",
   "execution_count": 15,
   "metadata": {},
   "outputs": [],
   "source": [
    "k_fold=10\n",
    "lambdas = np.logspace(-9,-1,12)\n",
    "degrees = np.array(range(1,8))"
   ]
  },
  {
   "cell_type": "code",
   "execution_count": 27,
   "metadata": {
    "collapsed": true,
    "jupyter": {
     "outputs_hidden": true
    }
   },
   "outputs": [
    {
     "name": "stdout",
     "output_type": "stream",
     "text": [
      "Iterating. Testing 12 lambdas for current degree = 1\n",
      "Iterating. Testing 12 lambdas for current degree = 2\n",
      "Iterating. Testing 12 lambdas for current degree = 3\n",
      "Iterating. Testing 12 lambdas for current degree = 4\n",
      "Iterating. Testing 12 lambdas for current degree = 5\n",
      "Iterating. Testing 12 lambdas for current degree = 6\n",
      "Iterating. Testing 12 lambdas for current degree = 7\n",
      "Getting best degree and lambda\n",
      "Ridge regression : getting optimal weights with best degree (1), lambda (8.111308307896872e-07)\n",
      "Iterating. Testing 12 lambdas for current degree = 1\n",
      "Iterating. Testing 12 lambdas for current degree = 2\n",
      "Iterating. Testing 12 lambdas for current degree = 3\n",
      "Iterating. Testing 12 lambdas for current degree = 4\n",
      "Iterating. Testing 12 lambdas for current degree = 5\n",
      "Iterating. Testing 12 lambdas for current degree = 6\n",
      "Iterating. Testing 12 lambdas for current degree = 7\n",
      "Getting best degree and lambda\n",
      "Ridge regression : getting optimal weights with best degree (5), lambda (1.519911082952933e-07)\n",
      "Iterating. Testing 12 lambdas for current degree = 1\n",
      "Iterating. Testing 12 lambdas for current degree = 2\n",
      "Iterating. Testing 12 lambdas for current degree = 3\n",
      "Iterating. Testing 12 lambdas for current degree = 4\n",
      "Iterating. Testing 12 lambdas for current degree = 5\n",
      "Iterating. Testing 12 lambdas for current degree = 6\n",
      "Iterating. Testing 12 lambdas for current degree = 7\n",
      "Getting best degree and lambda\n",
      "Ridge regression : getting optimal weights with best degree (3), lambda (1e-09)\n",
      "Iterating. Testing 12 lambdas for current degree = 1\n",
      "Iterating. Testing 12 lambdas for current degree = 2\n",
      "Iterating. Testing 12 lambdas for current degree = 3\n",
      "Iterating. Testing 12 lambdas for current degree = 4\n",
      "Iterating. Testing 12 lambdas for current degree = 5\n",
      "Iterating. Testing 12 lambdas for current degree = 6\n",
      "Iterating. Testing 12 lambdas for current degree = 7\n",
      "Getting best degree and lambda\n",
      "Ridge regression : getting optimal weights with best degree (4), lambda (1e-09)\n"
     ]
    }
   ],
   "source": [
    "wopt0m, deg0m, _ = crossval_ridge_gridsearch(y0,tx_meandf0,k_fold,lambdas,degrees,loss=False)\n",
    "wopt1m, deg1m, _ = crossval_ridge_gridsearch(y1,tx_meandf1,k_fold,lambdas,degrees,loss=False)\n",
    "wopt2m, deg2m, _ = crossval_ridge_gridsearch(y2,tx_meandf2,k_fold,lambdas,degrees,loss=False)\n",
    "wopt3m, deg3m, _ = crossval_ridge_gridsearch(y3,tx_meandf3,k_fold,lambdas,degrees,loss=False)"
   ]
  },
  {
   "cell_type": "code",
   "execution_count": 16,
   "metadata": {
    "collapsed": true,
    "jupyter": {
     "outputs_hidden": true
    }
   },
   "outputs": [
    {
     "name": "stdout",
     "output_type": "stream",
     "text": [
      "Iterating. Testing 12 lambdas for current degree = 1\n",
      "Iterating. Testing 12 lambdas for current degree = 2\n",
      "Iterating. Testing 12 lambdas for current degree = 3\n",
      "Iterating. Testing 12 lambdas for current degree = 4\n",
      "Iterating. Testing 12 lambdas for current degree = 5\n",
      "Iterating. Testing 12 lambdas for current degree = 6\n",
      "Iterating. Testing 12 lambdas for current degree = 7\n",
      "Getting best degree and lambda\n",
      "Ridge regression : getting optimal weights with best degree (1), lambda (8.111308307896872e-07)\n",
      "Iterating. Testing 12 lambdas for current degree = 1\n",
      "Iterating. Testing 12 lambdas for current degree = 2\n",
      "Iterating. Testing 12 lambdas for current degree = 3\n",
      "Iterating. Testing 12 lambdas for current degree = 4\n",
      "Iterating. Testing 12 lambdas for current degree = 5\n",
      "Iterating. Testing 12 lambdas for current degree = 6\n",
      "Iterating. Testing 12 lambdas for current degree = 7\n",
      "Getting best degree and lambda\n",
      "Ridge regression : getting optimal weights with best degree (5), lambda (1.519911082952933e-07)\n",
      "Iterating. Testing 12 lambdas for current degree = 1\n",
      "Iterating. Testing 12 lambdas for current degree = 2\n",
      "Iterating. Testing 12 lambdas for current degree = 3\n",
      "Iterating. Testing 12 lambdas for current degree = 4\n",
      "Iterating. Testing 12 lambdas for current degree = 5\n",
      "Iterating. Testing 12 lambdas for current degree = 6\n",
      "Iterating. Testing 12 lambdas for current degree = 7\n",
      "Getting best degree and lambda\n",
      "Ridge regression : getting optimal weights with best degree (3), lambda (1e-09)\n",
      "Iterating. Testing 12 lambdas for current degree = 1\n",
      "Iterating. Testing 12 lambdas for current degree = 2\n",
      "Iterating. Testing 12 lambdas for current degree = 3\n",
      "Iterating. Testing 12 lambdas for current degree = 4\n",
      "Iterating. Testing 12 lambdas for current degree = 5\n",
      "Iterating. Testing 12 lambdas for current degree = 6\n",
      "Iterating. Testing 12 lambdas for current degree = 7\n",
      "Getting best degree and lambda\n",
      "Ridge regression : getting optimal weights with best degree (4), lambda (1e-09)\n"
     ]
    }
   ],
   "source": [
    "wopt0, deg0, _ = crossval_ridge_gridsearch(y0,tx_df0,k_fold,lambdas,degrees,loss=False)\n",
    "wopt1, deg1, _ = crossval_ridge_gridsearch(y1,tx_df1,k_fold,lambdas,degrees,loss=False)\n",
    "wopt2, deg2, _ = crossval_ridge_gridsearch(y2,tx_df2,k_fold,lambdas,degrees,loss=False)\n",
    "wopt3, deg3, _ = crossval_ridge_gridsearch(y3,tx_df3,k_fold,lambdas,degrees,loss=False)\n"
   ]
  },
  {
   "cell_type": "code",
   "execution_count": 17,
   "metadata": {},
   "outputs": [],
   "source": [
    "#Getting test-data\n",
    "DATA_TEST_PATH = '../data/test.csv' # TODO: download test data and supply path here \n",
    "_, tX_test, ids_test = load_csv_data(DATA_TEST_PATH)\n",
    "OUTPUT_PATH = '../submissions/' # TODO: fill in desired name of output file for submission   "
   ]
  },
  {
   "cell_type": "code",
   "execution_count": 28,
   "metadata": {},
   "outputs": [
    {
     "name": "stdout",
     "output_type": "stream",
     "text": [
      "No targets detected. Using a test-set. \n",
      " Returning clusterized dataset and indices. \n",
      "\n",
      "(227458, 30)\n",
      "(227458, 20)\n"
     ]
    }
   ],
   "source": [
    "#Clustering\n",
    "test0, i0, test1, i1, test2, i2, test3, i3, = prijetnum_clustering(tX_test)\n",
    "print(test0.shape)\n",
    "#Deleting useless feature using the indices : \n",
    "test0 = np.delete(test0,idx_tk0,1)\n",
    "test1 = np.delete(test1,idx_tk1,1) \n",
    "test2 = np.delete(test2,idx_tk2,1) \n",
    "test3 = np.delete(test3,idx_tk3,1) \n",
    "\n",
    "#Replacing remaining -999 values with the median of that feature\n",
    "test0 = replace_999_median(test0)\n",
    "test1 = replace_999_median(test1)\n",
    "test2 = replace_999_median(test2)\n",
    "test3 = replace_999_median(test3)\n",
    "\n",
    "test0m = replace_999_mean(test0)\n",
    "test1m = replace_999_mean(test1)\n",
    "test2m = replace_999_mean(test2)\n",
    "test3m = replace_999_mean(test3)\n",
    "\n",
    "#Preprocessing + Bias\n",
    "test0, _, _ = standardize(test0)\n",
    "test1, _, _ = standardize(test1)\n",
    "test2, _, _ = standardize(test2)\n",
    "test3, _, _ = standardize(test3)\n",
    "#Preprocessing + Bias\n",
    "test0m, _, _ = standardize(test0m)\n",
    "test1m, _, _ = standardize(test1m)\n",
    "test2m, _, _ = standardize(test2m)\n",
    "test3m, _, _ = standardize(test3m)\n",
    "\n",
    "#This achieves the same as adds a bias + build the deg\n",
    "test0 = build_poly(test0,deg0)\n",
    "test1 = build_poly(test1,deg1)\n",
    "test2 = build_poly(test2,deg2)\n",
    "test3 = build_poly(test3,deg3)\n",
    "\n",
    "#This achieves the same as adds a bias + build the deg\n",
    "test0m = build_poly(test0m,deg0m)\n",
    "test1m = build_poly(test1m,deg1m)\n",
    "test2m = build_poly(test2m,deg2m)\n",
    "test3m = build_poly(test3m,deg3m)\n"
   ]
  },
  {
   "cell_type": "markdown",
   "metadata": {},
   "source": [
    "*shape check*"
   ]
  },
  {
   "cell_type": "code",
   "execution_count": 22,
   "metadata": {},
   "outputs": [
    {
     "name": "stdout",
     "output_type": "stream",
     "text": [
      "cluster0 (21,) (227458, 21)\n",
      "cluster0 (116,) (175338, 116)\n",
      "cluster0 (91,) (114648, 91)\n",
      "cluster0 (121,) (50794, 121)\n"
     ]
    }
   ],
   "source": [
    "print(\"cluster0\",wopt0.shape,test0.shape)\n",
    "print(\"cluster0\",wopt1.shape,test1.shape)\n",
    "print(\"cluster0\",wopt2.shape,test2.shape)\n",
    "print(\"cluster0\",wopt3.shape,test3.shape)"
   ]
  },
  {
   "cell_type": "code",
   "execution_count": 29,
   "metadata": {},
   "outputs": [],
   "source": [
    "#ridge prediction\n",
    "ypredridge_0 = predict_labels(wopt0,test0)\n",
    "ypredridge_1 = predict_labels(wopt1,test1)\n",
    "ypredridge_2 = predict_labels(wopt2,test2)\n",
    "ypredridge_3 = predict_labels(wopt3,test3)\n",
    "\n",
    "ypredridge_0m = predict_labels(wopt0m,test0m)\n",
    "ypredridge_1m = predict_labels(wopt1m,test1m)\n",
    "ypredridge_2m = predict_labels(wopt2m,test2m)\n",
    "ypredridge_3m = predict_labels(wopt3m,test3m)\n",
    "\n",
    "ypred_ridge = np.ones(ids_test.shape[0])\n",
    "ypred_ridge[i0]=ypredridge_0\n",
    "ypred_ridge[i1]=ypredridge_1\n",
    "ypred_ridge[i2]=ypredridge_2\n",
    "ypred_ridge[i3]=ypredridge_3\n",
    "\n",
    "ypred_ridgem = np.ones(ids_test.shape[0])\n",
    "ypred_ridgem[i0]=ypredridge_0m\n",
    "ypred_ridgem[i1]=ypredridge_1m\n",
    "ypred_ridgem[i2]=ypredridge_2m\n",
    "ypred_ridgem[i3]=ypredridge_3m\n",
    "\n",
    "create_csv_submission(ids_test, ypred_ridge, OUTPUT_PATH+\"CV_cluster_ridge_999med.csv\")\n",
    "create_csv_submission(ids_test, ypred_ridgem, OUTPUT_PATH+\"CV_cluster_ridge_999mean.csv\")"
   ]
  },
  {
   "cell_type": "code",
   "execution_count": 71,
   "metadata": {},
   "outputs": [],
   "source": [
    "#Log prediction\n",
    "ypred_log0 = predict_labels_log(wlog_opt0,test0)\n",
    "ypred_log1 = predict_labels_log(wlog_opt1,test1)\n",
    "ypred_log2 = predict_labels_log(wlog_opt2,test2)\n",
    "ypred_log3 = predict_labels_log(wlog_opt3,test3)\n",
    "\n",
    "ypred_log = np.ones(ids_test.shape[0])\n",
    "ypred_log[i0]=ypred_log0\n",
    "ypred_log[i1]=ypred_log1\n",
    "ypred_log[i2]=ypred_log2\n",
    "ypred_log[i3]=ypred_log3\n",
    "                   \n",
    "create_csv_submission(ids_test, ypred_log, OUTPUT_PATH+\"reguLogCluster.csv\")\n",
    "create_csv_submission(ids_test, ypred_log, OUTPUT_PATH+\"reguLogCluster.csv\")"
   ]
  },
  {
   "cell_type": "code",
   "execution_count": 62,
   "metadata": {},
   "outputs": [],
   "source": []
  },
  {
   "cell_type": "code",
   "execution_count": null,
   "metadata": {},
   "outputs": [],
   "source": []
  }
 ],
 "metadata": {
  "anaconda-cloud": {},
  "kernelspec": {
   "display_name": "Python 3",
   "language": "python",
   "name": "python3"
  },
  "language_info": {
   "codemirror_mode": {
    "name": "ipython",
    "version": 3
   },
   "file_extension": ".py",
   "mimetype": "text/x-python",
   "name": "python",
   "nbconvert_exporter": "python",
   "pygments_lexer": "ipython3",
   "version": "3.7.5"
  }
 },
 "nbformat": 4,
 "nbformat_minor": 4
}
