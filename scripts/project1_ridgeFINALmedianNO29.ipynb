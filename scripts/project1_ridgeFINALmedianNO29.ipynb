{
 "cells": [
  {
   "cell_type": "code",
   "execution_count": null,
   "metadata": {},
   "outputs": [],
   "source": [
    "# Useful starting lines\n",
    "%timeit\n",
    "%matplotlib inline\n",
    "import numpy as np\n",
    "import matplotlib.pyplot as plt\n",
    "from implementations import *\n",
    "from preprocessing import *\n",
    "from train_tune import *\n",
    "from proj1_helpers import *\n",
    "\n",
    "%load_ext autoreload\n",
    "%autoreload 2\n",
    "DATA_TRAIN_PATH = '../data/train.csv' # TODO: download train data and supply path here \n",
    "\n",
    "#loading data\n",
    "\n",
    "y, tx_train, ids = load_csv_data(DATA_TRAIN_PATH)\n",
    "names= get_feature_names(DATA_TRAIN_PATH)\n",
    "name2num,num2name = mapping(DATA_TRAIN_PATH)\n",
    "#Train preprocessing\n",
    "print(\"THIS VERSION REMOVES THE 29TH COLUMN FROM CLUSTER0\")\n",
    "from preprocessing import cluster_preprocessing_train\n",
    "tx0, y0, tx1, y1, tx2, y2, tx3, y3, id0, id1, id2, id3 = cluster_preprocessing_train(tx_train,y,num2name,f=\"median\")\n",
    "\n",
    "#K-fold CV\n",
    "k_fold=5\n",
    "\n",
    "lambdas = np.logspace(-9,-3,8)\n",
    "degrees = np.array(range(1,12))\n",
    "\n",
    "print(\"#======== CV for Cluster 0 ========#\")\n",
    "w_opt0, d_opt0, la0, train0, test0 = crossval_ridge_gridsearch(y0,tx0,k_fold,\n",
    "                                                             lambdas,degrees,\n",
    "                                                             loss=True)\n",
    "cv_viz(d_opt0,lambdas,train0[d_opt0-1,:],test0[d_opt0-1,:],save=\"ridge_clust0finalmedian\")\n",
    "#----------------1\n",
    "print(\"#======== CV for Cluster 1 ========#\")\n",
    "w_opt1, d_opt1, la1, train1, test1 = crossval_ridge_gridsearch(y1,tx1,k_fold,\n",
    "                                                             lambdas,degrees,\n",
    "                                                             loss=True)\n",
    "cv_viz(d_opt1,lambdas,train1[d_opt1-1,:],test0[d_opt1-1,:],save=\"ridge_clust1finalmedian\")\n",
    "\n",
    "#----------------2\n",
    "print(\"#======== CV for Cluster 2 ========#\")\n",
    "w_opt2, d_opt2, la2, train2, test2 = crossval_ridge_gridsearch(y2,tx2,k_fold,\n",
    "                                                             lambdas,degrees,\n",
    "                                                             loss=True)\n",
    "cv_viz(d_opt2,lambdas,train2[d_opt2-1,:],test0[d_opt2-1,:],save=\"ridge_clust2finalmedian\")\n",
    "\n",
    "#----------------3\n",
    "print(\"#======== CV for Cluster 3 ========#\")\n",
    "w_opt3, d_opt3, la3, train3, test3 = crossval_ridge_gridsearch(y3,tx3,k_fold,\n",
    "                                                             lambdas,degrees,\n",
    "                                                             loss=True)\n",
    "cv_viz(d_opt3,lambdas,train3[d_opt3-1,:],test0[d_opt3-1,:],save=\"ridge_clust3finalmedian\")\n",
    "\n",
    "degs=[d_opt0,d_opt1,d_opt2,d_opt3]\n",
    "####"
   ]
  },
  {
   "cell_type": "code",
   "execution_count": 71,
   "metadata": {},
   "outputs": [
    {
     "name": "stdout",
     "output_type": "stream",
     "text": [
      "TEST DATA\n"
     ]
    }
   ],
   "source": []
  },
  {
   "cell_type": "code",
   "execution_count": 73,
   "metadata": {
    "collapsed": true,
    "jupyter": {
     "outputs_hidden": true,
     "source_hidden": true
    }
   },
   "outputs": [
    {
     "name": "stdout",
     "output_type": "stream",
     "text": [
      "[9, 5, 11, 11]\n",
      "(172,) (116,) (331,) (331,)\n",
      "(99913, 19) (77544, 23) (50379, 30) (22164, 30)\n",
      "(99913, 172) (77544, 116) (50379, 331) (22164, 331)\n",
      "(227458, 172) (175338, 116) (114648, 331) (50794, 331)\n"
     ]
    }
   ],
   "source": [
    "print(degs)\n",
    "print(w_opt0.shape, w_opt1.shape, w_opt2.shape, w_opt3.shape)\n",
    "print(tx0.shape, tx1.shape, tx2.shape, tx3.shape)\n",
    "print(build_poly(tx0,9).shape, build_poly(tx1,5).shape,build_poly(tx2,11).shape,build_poly(tx3,11).shape)\n",
    "print(test0.shape, test1.shape, test2.shape, test3.shape)"
   ]
  },
  {
   "cell_type": "code",
   "execution_count": 74,
   "metadata": {},
   "outputs": [
    {
     "name": "stdout",
     "output_type": "stream",
     "text": [
      "Normal prediction\n"
     ]
    }
   ],
   "source": [
    "DATA_TEST_PATH = '../data/test.csv' # TODO: download test data and supply path here \n",
    "_, tX_test, ids_test = load_csv_data(DATA_TEST_PATH)\n",
    "OUTPUT_PATH = '../finalsubmit/' # TODO: fill in desired name of output file for submission\n",
    "#Test preprocessing\n",
    "test0, i0, test1, i1, test2, i2, test3, i3 = cluster_preprocessing_test(tX_test, id0, id1, id2,id3, [9,5,11,11], degs,f=\"median\")\n",
    "#Prediction\n",
    "yclusterpred_opt = cluster_predict(w_opt0,w_opt1,w_opt2,w_opt3,\n",
    "                               test0,test1,test2,test3,\n",
    "                               i0,i1,i2,i3,how=\"normal\")\n",
    "\n",
    "create_csv_submission(ids_test, yclusterpred_opt, OUTPUT_PATH+\"CV_RIDGE_CORRECTEDLOGFEATURESwMedian.csv\")\n",
    "\n",
    "\n",
    "best = \"degs = {},{},{},{} \\n lambdas = {:e}, \\n {:e}, \\n {:e} \\n {:e}\".format(d_opt0,d_opt1,d_opt2,d_opt3,la0,la1,la2,la3)\n",
    "file1 = open(\"bestparams_ridge_CORRECTEDLOGFEATURESwMedian\",\"w\") \n",
    "file1.write(best)\n",
    "file1.close()"
   ]
  },
  {
   "cell_type": "code",
   "execution_count": 31,
   "metadata": {},
   "outputs": [],
   "source": []
  }
 ],
 "metadata": {
  "anaconda-cloud": {},
  "kernelspec": {
   "display_name": "Python 3",
   "language": "python",
   "name": "python3"
  },
  "language_info": {
   "codemirror_mode": {
    "name": "ipython",
    "version": 3
   },
   "file_extension": ".py",
   "mimetype": "text/x-python",
   "name": "python",
   "nbconvert_exporter": "python",
   "pygments_lexer": "ipython3",
   "version": "3.7.5"
  }
 },
 "nbformat": 4,
 "nbformat_minor": 4
}
